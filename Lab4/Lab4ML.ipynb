{
  "cells": [
    {
      "metadata": {
        "trusted": true,
        "collapsed": true,
        "_uuid": "b3aa3d165e0d002163ccc9711a8555215d096da0"
      },
      "cell_type": "code",
      "source": "import pandas as pd\nimport numpy as np\nimport matplotlib.pyplot as plt\nimport seaborn as sbn\n\n%matplotlib inline\nfrom sklearn.metrics import accuracy_score\nfrom sklearn.linear_model import LogisticRegression",
      "execution_count": 1,
      "outputs": []
    },
    {
      "metadata": {
        "scrolled": true,
        "trusted": true,
        "_uuid": "5a169287dbdf4515318d5b7c9b6a6eff00d27d85",
        "collapsed": true
      },
      "cell_type": "code",
      "source": "dtrain = pd.read_csv('../input/data_test.txt', delimiter = \",\")\ndtest = pd.read_csv('../input/data_train.txt', delimiter = \",\")",
      "execution_count": 2,
      "outputs": []
    },
    {
      "metadata": {
        "trusted": true,
        "_uuid": "b91b4a534897afb2eaab8b6cda90185262cf7220",
        "collapsed": true
      },
      "cell_type": "code",
      "source": "dtrain.shape",
      "execution_count": 3,
      "outputs": []
    },
    {
      "metadata": {
        "trusted": true,
        "_uuid": "dfe5c6b1d615e884e933973ea9a5938413018dc8",
        "collapsed": true
      },
      "cell_type": "code",
      "source": "dtest.shape",
      "execution_count": 4,
      "outputs": []
    },
    {
      "metadata": {
        "trusted": true,
        "_uuid": "a703ebf46669ceac867253cbd2d1c3680d071145",
        "collapsed": true
      },
      "cell_type": "code",
      "source": "dtrain_1 = dtrain[dtrain['Occupancy']==1].shape[0]\ndtrain_0 = dtrain[dtrain['Occupancy']==0].shape[0]\nprint(\"кол-во 1 {} и 0 {}\".format(dtrain_1, dtrain_0))",
      "execution_count": 5,
      "outputs": []
    },
    {
      "metadata": {
        "trusted": true,
        "_uuid": "57b1591390df336fe57ffdded90c0d967a798087",
        "collapsed": true
      },
      "cell_type": "code",
      "source": "#корреляционная матрица\ndtrain.corr()",
      "execution_count": 6,
      "outputs": []
    },
    {
      "metadata": {
        "trusted": true,
        "collapsed": true,
        "_uuid": "635869845f604e76300bab1928596e39562cf5a9"
      },
      "cell_type": "code",
      "source": "#целевой признак коррелирует с освещенностью, температурой, CO2 и HumRatio ",
      "execution_count": 7,
      "outputs": []
    },
    {
      "metadata": {
        "trusted": true,
        "_uuid": "d0d5e1424ad0a11f2e6c1ff1e8ed3c6902de1657",
        "collapsed": true
      },
      "cell_type": "code",
      "source": "sbn.set(style = \"ticks\")\nsbn.heatmap(dtrain.corr())",
      "execution_count": 8,
      "outputs": []
    },
    {
      "metadata": {
        "trusted": true,
        "_uuid": "b34acf3dda76aab6035376bcb3bbeb9628e0047e",
        "collapsed": true
      },
      "cell_type": "code",
      "source": "sbn.pairplot(dtrain, hue = \"Occupancy\")",
      "execution_count": 9,
      "outputs": []
    },
    {
      "metadata": {
        "trusted": true,
        "_uuid": "3ad38c05b4f633dd61c112b9d3d232d69e2152e1",
        "collapsed": true
      },
      "cell_type": "code",
      "source": "dtrain.columns[dtrain.isnull().values.any()].tolist()\n#в сете нет пропущенных значений",
      "execution_count": 10,
      "outputs": []
    },
    {
      "metadata": {
        "trusted": true,
        "collapsed": true,
        "_uuid": "5dcf7c9cd9822ed63e5281b88991f1d7f3cc4c28"
      },
      "cell_type": "code",
      "source": "dtrain = dtrain.drop(('Humidity'), axis = 1)",
      "execution_count": 11,
      "outputs": []
    },
    {
      "metadata": {
        "trusted": true,
        "collapsed": true,
        "_uuid": "7989fc35a981a156e6a197da66da6e7be7dd6125"
      },
      "cell_type": "code",
      "source": "dtest = dtest.drop(('Humidity'), axis = 1)",
      "execution_count": 12,
      "outputs": []
    },
    {
      "metadata": {
        "trusted": true,
        "collapsed": true,
        "_uuid": "488e5ee57e6598cc62c767f39894ad66a732261f"
      },
      "cell_type": "code",
      "source": "arr_name = []\narr_train = []\narr_val = []\n\n# используем предварительно отобранные признаки\ncols_x = ['Temperature', 'Light', 'CO2', 'HumidityRatio']   \n# целевой признак\ncol_y = 'Occupancy'\n\n# функция тестирования классификатора\ndef test_classifier(classifier, classifier_name):\n    # обучаем классификатор\n    classifier.fit(dtrain[cols_x], dtrain[col_y])\n\n    # проверяем классификатор\n    y_train = classifier.predict(dtrain[cols_x])\n    \n    # определяем точность\n    y_train_acc = accuracy_score(dtrain[col_y], y_train)\n    # для валидационной выборки\n    y_val = classifier.predict(dtest[cols_x])\n    y_val_acc = accuracy_score(dtest[col_y], y_val)\n\n    # сохранение информации в массивы\n    arr_name.append(classifier_name)\n    arr_train.append(y_train_acc)\n    arr_val.append(y_val_acc)\n    \n    # вывод промежуточных результатов\n    print('Точность для алгоритма {} на обучающей выборке = {}, \\\n    на валидационной выборке = {}'\\\n          .format(classifier_name,\\\n                  round(y_train_acc, 3),\\\n                  round(y_val_acc, 3)))\n    \n    # возвращаем обученный классификатор\n    return classifier\n",
      "execution_count": 13,
      "outputs": []
    },
    {
      "metadata": {
        "trusted": true,
        "_uuid": "32109f3b5b439e3b5c253b75c15c0bfb5b9db853",
        "collapsed": true
      },
      "cell_type": "code",
      "source": "%time classifier = test_classifier(LogisticRegression(),'LR')",
      "execution_count": 14,
      "outputs": []
    },
    {
      "metadata": {
        "trusted": true,
        "collapsed": true,
        "_uuid": "4f22b70c6f677e0e130378d04e4575a977c5c027"
      },
      "cell_type": "code",
      "source": "def sigmoid(x):\n    ret = x.apply(lambda t: 1.0 / (1.0 + np.exp(-t)))\n    return ret",
      "execution_count": 15,
      "outputs": []
    },
    {
      "metadata": {
        "trusted": true,
        "collapsed": true,
        "_uuid": "1b8c39b5795d28e89de2396ee6002e00174e1e4e"
      },
      "cell_type": "code",
      "source": "alpha = 0.0001\ndef GradientDescent(x, y, count = 1001, alpha = 0.0001):\n    w = pd.Series(data = ((np.random.randn(np.shape(x)[1])) / 300), index = x.columns, dtype = np.float64)\n    i = 0\n    res = []\n    cs = []\n    for j in range (10000):        \n        i = i + 1\n        #print(x.dot(w).head())\n        y_pred = sigmoid(x.dot(w))\n        #mi = (alpha/x.shape[0]) * np.matmul(x.transpose(), (y_pred - y))\n        #print(mi)\n        w = w - (alpha/x.shape[0]) * np.matmul(x.transpose(), (y_pred - y)) #y - правильный рез-т\n        #print (w)\n        lolkek = accuracy_score(y, ClassificationResult(x, w))\n        #print(lolkek)\n        #print(CostFunc(y, x.dot(w)))\n        #print(y_pred.head())\n        #print(lolkek)\n        res.append(lolkek)\n        cs.append(CostFunc(y, sigmoid(x.dot(w))))\n        if lolkek > 0.98 or i > count:\n            print('i = {}'.format(i))\n            break\n    return w, res, cs\ndef ClassificationResult(x, w):\n    probability = sigmoid(x.dot(w))\n    probability = probability.apply(lambda x: 0 if x < 0.5 else 1)\n    #print (probability.describe())\n    return probability\ndef CostFunc (y_true, y_pred):\n    #print(np.shape(y_pred))\n    #print(y_pred.describe())\n    func = (-1.0/np.shape(y_pred)[0]) * (y_true.dot(np.log(y_pred))+(1-y_true).dot(np.log(1-y_pred)))\n    return func",
      "execution_count": 70,
      "outputs": []
    },
    {
      "metadata": {
        "trusted": true,
        "_uuid": "bb61e803fe2c4fde9bc26aa510f1e568ed9bca7c",
        "collapsed": true
      },
      "cell_type": "code",
      "source": "#w = np.ones(1, np.shape(dtrain)[1])\n#w.shape\nprint(dtrain.columns)\n#x_train = dtrain.drop(('Humidity'), axis = 1)\nx_train = dtrain.drop(('Occupancy'), axis = 1)\nx_train = x_train.drop(('date'), axis = 1)\ny_train = dtrain['Occupancy']",
      "execution_count": 17,
      "outputs": []
    },
    {
      "metadata": {
        "trusted": true,
        "_uuid": "31ed10c2ac324440abd0fe18bd628ef778b6bf29",
        "collapsed": true
      },
      "cell_type": "code",
      "source": "tmp, gr, gr1 = GradientDescent(x_train, y_train, 300, 0.0000015)\n#print(tmp)\n#print('y')\n#print(y_train.head())\ny_t = sigmoid(x_train.dot(tmp))\n#print(y_t.head())\nprint(CostFunc(y_train, y_t))\nprint(accuracy_score(y_train, ClassificationResult(x_train, tmp)))\nplt.plot(range(len(gr)), gr)\nplt.show()\nplt.plot(gr1)\nplt.show()\nx_tr = dtest.drop(('date'), axis = 1)\nprint(accuracy_score(dtest['Occupancy'], ClassificationResult(x_tr.drop(('Occupancy'), axis = 1), tmp)))",
      "execution_count": 101,
      "outputs": []
    },
    {
      "metadata": {
        "trusted": true,
        "_uuid": "61a6a70266407c4d7c1f54a4ccbbeb2af00eeb79",
        "collapsed": true
      },
      "cell_type": "code",
      "source": "dtrain.describe()",
      "execution_count": 19,
      "outputs": []
    },
    {
      "metadata": {
        "trusted": true,
        "_uuid": "b7d69d729d64640e2fdf2341bf23b0917af638a6",
        "collapsed": true
      },
      "cell_type": "code",
      "source": "x_tr = dtest.drop(('date'), axis = 1)\nprint(accuracy_score(dtest['Occupancy'], ClassificationResult(x_tr.drop(('Occupancy'), axis = 1), tmp)))",
      "execution_count": 65,
      "outputs": []
    },
    {
      "metadata": {
        "trusted": true,
        "_uuid": "ec33814f3de5291ad230bf44dd405163d2097c8f",
        "collapsed": true
      },
      "cell_type": "code",
      "source": "dtrain.drop(('Occupancy'), axis = 1).columns",
      "execution_count": 21,
      "outputs": []
    },
    {
      "metadata": {
        "trusted": true,
        "_uuid": "5cbf35693a4af4647f330c9251120d8e4c123783",
        "collapsed": true
      },
      "cell_type": "code",
      "source": "tmp #0.963904840033",
      "execution_count": 66,
      "outputs": []
    },
    {
      "metadata": {
        "trusted": true,
        "scrolled": true,
        "_uuid": "9bab13aed80f8e2b739620807ef02c1134795721",
        "collapsed": true
      },
      "cell_type": "code",
      "source": "y_t",
      "execution_count": 26,
      "outputs": []
    },
    {
      "metadata": {
        "trusted": true,
        "collapsed": true,
        "_uuid": "efe4c822981f75b28bebeade82ae4248ca6a367d"
      },
      "cell_type": "code",
      "source": "",
      "execution_count": null,
      "outputs": []
    }
  ],
  "metadata": {
    "kernelspec": {
      "display_name": "Python 3",
      "language": "python",
      "name": "python3"
    },
    "language_info": {
      "name": "python",
      "version": "3.6.5",
      "mimetype": "text/x-python",
      "codemirror_mode": {
        "name": "ipython",
        "version": 3
      },
      "pygments_lexer": "ipython3",
      "nbconvert_exporter": "python",
      "file_extension": ".py"
    }
  },
  "nbformat": 4,
  "nbformat_minor": 1
}